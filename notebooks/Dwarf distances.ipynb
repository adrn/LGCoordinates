{
 "cells": [
  {
   "cell_type": "code",
   "execution_count": null,
   "metadata": {
    "collapsed": true
   },
   "outputs": [],
   "source": [
    "import sys\n",
    "from os import path\n",
    "_up_one = path.abspath('../')\n",
    "if _up_one not in sys.path:\n",
    "    sys.path.insert(1, _up_one)\n",
    "\n",
    "# Third-party\n",
    "from astropy.io import ascii\n",
    "import astropy.coordinates as coord\n",
    "import astropy.units as u\n",
    "import matplotlib as mpl\n",
    "import matplotlib.pyplot as plt\n",
    "import numpy as np\n",
    "%matplotlib inline\n",
    "\n",
    "from lg_barycentric import LocalGroupBarycentric"
   ]
  },
  {
   "cell_type": "code",
   "execution_count": null,
   "metadata": {},
   "outputs": [],
   "source": [
    "nearby = ascii.read('../data/NearbyGalaxies.dat', delimiter=',')"
   ]
  },
  {
   "cell_type": "code",
   "execution_count": null,
   "metadata": {},
   "outputs": [],
   "source": [
    "c = coord.SkyCoord(ra=nearby['RA'],\n",
    "                   dec=nearby['Dec'],\n",
    "                   distance=coord.Distance(distmod=nearby['distmod']),\n",
    "                   unit=(u.hourangle, u.deg))"
   ]
  },
  {
   "cell_type": "code",
   "execution_count": null,
   "metadata": {},
   "outputs": [],
   "source": [
    "c_barycen = c.transform_to(LocalGroupBarycentric(mw_mass=1E12*u.Msun,\n",
    "                                                 m31_mass=2.5E12*u.Msun))"
   ]
  },
  {
   "cell_type": "code",
   "execution_count": null,
   "metadata": {},
   "outputs": [],
   "source": [
    "style = dict(marker='.', linestyle='none', alpha=0.65)\n",
    "\n",
    "fig, axes = plt.subplots(2, 2, figsize=(8.75,8), sharex=True, sharey=True)\n",
    "\n",
    "axes[0,0].plot(c_barycen.cartesian.xyz[0],\n",
    "               c_barycen.cartesian.xyz[1],\n",
    "               **style)\n",
    "axes[1,0].plot(c_barycen.cartesian.xyz[0],\n",
    "               c_barycen.cartesian.xyz[2],\n",
    "               **style)\n",
    "axes[1,1].plot(c_barycen.cartesian.xyz[1],\n",
    "               c_barycen.cartesian.xyz[2],\n",
    "               **style)\n",
    "\n",
    "axes[0,0].set_xlim(-1200, 1200)\n",
    "axes[0,0].set_ylim(-1200, 1200)\n",
    "\n",
    "axes[0,0].set_ylabel(r'$y_{\\rm LG}$ [kpc]')\n",
    "axes[1,0].set_ylabel(r'$z_{\\rm LG}$ [kpc]')\n",
    "axes[1,0].set_xlabel(r'$x_{\\rm LG}$ [kpc]')\n",
    "axes[1,1].set_xlabel(r'$y_{\\rm LG}$ [kpc]')\n",
    "\n",
    "axes[0,0].xaxis.set_ticks(np.arange(-1000, 1000+1, 500))\n",
    "axes[0,0].yaxis.set_ticks(axes[0,0].get_xticks())\n",
    "\n",
    "axes[0,1].set_visible(False)\n",
    "\n",
    "fig.tight_layout()"
   ]
  },
  {
   "cell_type": "code",
   "execution_count": null,
   "metadata": {
    "collapsed": true
   },
   "outputs": [],
   "source": []
  },
  {
   "cell_type": "code",
   "execution_count": null,
   "metadata": {
    "collapsed": true
   },
   "outputs": [],
   "source": []
  }
 ],
 "metadata": {
  "kernelspec": {
   "display_name": "Python [default]",
   "language": "python",
   "name": "python3"
  },
  "language_info": {
   "codemirror_mode": {
    "name": "ipython",
    "version": 3
   },
   "file_extension": ".py",
   "mimetype": "text/x-python",
   "name": "python",
   "nbconvert_exporter": "python",
   "pygments_lexer": "ipython3",
   "version": "3.5.3"
  }
 },
 "nbformat": 4,
 "nbformat_minor": 2
}