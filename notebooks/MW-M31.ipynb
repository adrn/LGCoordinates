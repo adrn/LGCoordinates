{
 "cells": [
  {
   "cell_type": "code",
   "execution_count": 1,
   "metadata": {
    "collapsed": true
   },
   "outputs": [],
   "source": [
    "import sys\n",
    "from os import path\n",
    "_up_one = path.abspath('../')\n",
    "if _up_one not in sys.path:\n",
    "    sys.path.insert(1, _up_one)\n",
    "\n",
    "# Third-party\n",
    "import astropy.coordinates as coord\n",
    "import astropy.units as u\n",
    "import matplotlib as mpl\n",
    "import matplotlib.pyplot as plt\n",
    "import numpy as np\n",
    "%matplotlib inline\n",
    "\n",
    "from lg_barycentric import get_matrix_vectors, LocalGroupBarycentric\n",
    "from astropy.coordinates.matrix_utilities import matrix_product"
   ]
  },
  {
   "cell_type": "code",
   "execution_count": 2,
   "metadata": {
    "collapsed": true
   },
   "outputs": [],
   "source": [
    "m31_cen = coord.SkyCoord(ra='00 42 44.330', dec='+41 16 07.50', distance=779*u.kpc,\n",
    "                         unit=(u.hourangle, u.degree))\n",
    "\n",
    "mw_cen = coord.Galactocentric(x=0*u.pc, y=0*u.pc, z=0*u.pc)"
   ]
  },
  {
   "cell_type": "code",
   "execution_count": 3,
   "metadata": {
    "collapsed": true
   },
   "outputs": [],
   "source": [
    "R, offset = get_matrix_vectors(mw_cen, m31_cen, \n",
    "                               mw_mass=1E12*u.Msun, m31_mass=2.5E12*u.Msun)"
   ]
  },
  {
   "cell_type": "code",
   "execution_count": 4,
   "metadata": {},
   "outputs": [],
   "source": [
    "# Now M31 should be along the x-axis\n",
    "m31_from_mw_cen = matrix_product(R, m31_cen.transform_to(mw_cen).cartesian.xyz.value)\n",
    "assert np.allclose(m31_from_mw_cen[1:], 0)"
   ]
  },
  {
   "cell_type": "code",
   "execution_count": 5,
   "metadata": {},
   "outputs": [
    {
     "data": {
      "text/latex": [
       "$223.72264 \\; \\mathrm{kpc}$"
      ],
      "text/plain": [
       "<Quantity 223.7226440033976 kpc>"
      ]
     },
     "execution_count": 5,
     "metadata": {},
     "output_type": "execute_result"
    }
   ],
   "source": [
    "m31_cen.transform_to(LocalGroupBarycentric).x.to(u.kpc)"
   ]
  },
  {
   "cell_type": "code",
   "execution_count": 6,
   "metadata": {},
   "outputs": [
    {
     "data": {
      "text/latex": [
       "$-559.30661 \\; \\mathrm{kpc}$"
      ],
      "text/plain": [
       "<Quantity -559.3066100008377 kpc>"
      ]
     },
     "execution_count": 6,
     "metadata": {},
     "output_type": "execute_result"
    }
   ],
   "source": [
    "mw_cen.transform_to(LocalGroupBarycentric).x.to(u.kpc)"
   ]
  },
  {
   "cell_type": "code",
   "execution_count": null,
   "metadata": {
    "collapsed": true
   },
   "outputs": [],
   "source": []
  },
  {
   "cell_type": "code",
   "execution_count": null,
   "metadata": {
    "collapsed": true
   },
   "outputs": [],
   "source": []
  }
 ],
 "metadata": {
  "_draft": {
   "nbviewer_url": "https://gist.github.com/9d48b12dd44cc8f8be233527eb596b97"
  },
  "anaconda-cloud": {},
  "gist": {
   "data": {
    "description": "lgcoordinates/MW-M31.ipynb",
    "public": true
   },
   "id": "9d48b12dd44cc8f8be233527eb596b97"
  },
  "kernelspec": {
   "display_name": "Python [default]",
   "language": "python",
   "name": "python3"
  },
  "language_info": {
   "codemirror_mode": {
    "name": "ipython",
    "version": 3
   },
   "file_extension": ".py",
   "mimetype": "text/x-python",
   "name": "python",
   "nbconvert_exporter": "python",
   "pygments_lexer": "ipython3",
   "version": "3.6.2"
  }
 },
 "nbformat": 4,
 "nbformat_minor": 2
}
