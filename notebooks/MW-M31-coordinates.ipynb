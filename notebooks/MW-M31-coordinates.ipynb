{
 "cells": [
  {
   "cell_type": "markdown",
   "metadata": {},
   "source": [
    "OBSOLETE: see top of MW-M31-NFW.ipynb"
   ]
  },
  {
   "cell_type": "code",
   "execution_count": 1,
   "metadata": {
    "ExecuteTime": {
     "end_time": "2020-09-15T13:13:49.970862Z",
     "start_time": "2020-09-15T13:13:48.603555Z"
    }
   },
   "outputs": [],
   "source": [
    "import sys\n",
    "from os import path\n",
    "_up_one = path.abspath('../')\n",
    "if _up_one not in sys.path:\n",
    "    sys.path.insert(1, _up_one)\n",
    "from lg_barycentric import get_matrix_vectors, LocalGroupBarycentric, mw_masses, m31_masses\n",
    "\n",
    "# Third-party\n",
    "import astropy.coordinates as coord\n",
    "import astropy.units as u\n",
    "import matplotlib as mpl\n",
    "import matplotlib.pyplot as plt\n",
    "import numpy as np\n",
    "%matplotlib inline\n",
    "\n",
    "from astropy.coordinates.matrix_utilities import matrix_product"
   ]
  },
  {
   "cell_type": "code",
   "execution_count": 2,
   "metadata": {
    "ExecuteTime": {
     "end_time": "2020-09-15T13:13:50.004741Z",
     "start_time": "2020-09-15T13:13:49.979977Z"
    }
   },
   "outputs": [],
   "source": [
    "m31_cen = coord.SkyCoord(ra='00 42 44.330', dec='+41 16 07.50', distance=779*u.kpc,\n",
    "                         unit=(u.hourangle, u.degree))\n",
    "\n",
    "mw_cen = coord.Galactocentric(x=0*u.pc, y=0*u.pc, z=0*u.pc)"
   ]
  },
  {
   "cell_type": "code",
   "execution_count": 3,
   "metadata": {
    "ExecuteTime": {
     "end_time": "2020-09-15T13:13:50.008579Z",
     "start_time": "2020-09-15T13:13:50.006260Z"
    }
   },
   "outputs": [],
   "source": [
    "# lgb = LocalGroupBarycentric(coord.CartesianRepresentation(0, 0, np.logspace(6, 8, 128), unit=u.Gpc))\n",
    "# derp = lgb.transform_to(coord.ICRS)\n",
    "# derp[-1]"
   ]
  },
  {
   "cell_type": "code",
   "execution_count": 4,
   "metadata": {
    "ExecuteTime": {
     "end_time": "2020-09-15T13:13:50.012528Z",
     "start_time": "2020-09-15T13:13:50.010560Z"
    }
   },
   "outputs": [],
   "source": [
    "# R, offset = get_matrix_vectors(mw_cen, m31_cen, \n",
    "#                                mw_mass=1.3E12*u.Msun, m31_mass=2.E12*u.Msun)"
   ]
  },
  {
   "cell_type": "code",
   "execution_count": 5,
   "metadata": {
    "ExecuteTime": {
     "end_time": "2020-09-15T13:13:50.018148Z",
     "start_time": "2020-09-15T13:13:50.016445Z"
    }
   },
   "outputs": [],
   "source": [
    "# # Now M31 should be along the x-axis\n",
    "# m31_from_mw_cen = matrix_product(R, m31_cen.transform_to(mw_cen).cartesian.xyz.value)\n",
    "# assert np.allclose(m31_from_mw_cen[1:], 0)"
   ]
  },
  {
   "cell_type": "code",
   "execution_count": 6,
   "metadata": {
    "ExecuteTime": {
     "end_time": "2020-09-15T13:13:50.118516Z",
     "start_time": "2020-09-15T13:13:50.021442Z"
    }
   },
   "outputs": [
    {
     "name": "stdout",
     "output_type": "stream",
     "text": [
      "220.20247626324135 kpc -562.7396615539577 kpc\n",
      "<ICRS Coordinate: (ra, dec, distance) in (deg, deg, Mpc)\n",
      "    (193.32686045, 48.58490306, 999999.99842173)> <ICRS Coordinate: (ra, dec, distance) in (deg, deg, Mpc)\n",
      "    (102.21852913, 0.97748818, 999999.99309508)>\n",
      "293.6033016833228 kpc -489.3388361338763 kpc\n",
      "<ICRS Coordinate: (ra, dec, distance) in (deg, deg, Mpc)\n",
      "    (193.32686029, 48.58489885, 999999.99842169)> <ICRS Coordinate: (ra, dec, distance) in (deg, deg, Mpc)\n",
      "    (102.21853228, 0.9774854, 999999.99309504)>\n",
      "367.00412710340424 kpc -415.9380107137949 kpc\n",
      "<ICRS Coordinate: (ra, dec, distance) in (deg, deg, Mpc)\n",
      "    (193.32686013, 48.58489465, 999999.99842166)> <ICRS Coordinate: (ra, dec, distance) in (deg, deg, Mpc)\n",
      "    (102.21853544, 0.97748262, 999999.99309501)>\n"
     ]
    }
   ],
   "source": [
    "for mw, m31 in zip(mw_masses, m31_masses):\n",
    "    lg_frame = LocalGroupBarycentric(mw_mass=mw, m31_mass=m31)\n",
    "    print(m31_cen.transform_to(lg_frame).x.to(u.kpc),\n",
    "          mw_cen.transform_to(lg_frame).x.to(u.kpc))\n",
    "    print(lg_frame.realize_frame(coord.CartesianRepresentation([0,0,1e6]*u.Mpc)).transform_to(coord.ICRS()),\n",
    "          lg_frame.realize_frame(coord.CartesianRepresentation([0,1e6,0]*u.Mpc)).transform_to(coord.ICRS()))"
   ]
  },
  {
   "cell_type": "code",
   "execution_count": null,
   "metadata": {
    "collapsed": true
   },
   "outputs": [],
   "source": []
  }
 ],
 "metadata": {
  "_draft": {
   "nbviewer_url": "https://gist.github.com/9d48b12dd44cc8f8be233527eb596b97"
  },
  "anaconda-cloud": {},
  "gist": {
   "data": {
    "description": "lgcoordinates/MW-M31.ipynb",
    "public": true
   },
   "id": "9d48b12dd44cc8f8be233527eb596b97"
  },
  "kernelspec": {
   "display_name": "Python 3",
   "language": "python",
   "name": "python3"
  },
  "language_info": {
   "codemirror_mode": {
    "name": "ipython",
    "version": 3
   },
   "file_extension": ".py",
   "mimetype": "text/x-python",
   "name": "python",
   "nbconvert_exporter": "python",
   "pygments_lexer": "ipython3",
   "version": "3.8.3"
  },
  "toc": {
   "base_numbering": 1,
   "nav_menu": {},
   "number_sections": true,
   "sideBar": true,
   "skip_h1_title": false,
   "title_cell": "Table of Contents",
   "title_sidebar": "Contents",
   "toc_cell": false,
   "toc_position": {},
   "toc_section_display": true,
   "toc_window_display": false
  }
 },
 "nbformat": 4,
 "nbformat_minor": 2
}
