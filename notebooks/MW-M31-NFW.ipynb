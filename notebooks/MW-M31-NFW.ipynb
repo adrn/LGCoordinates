{
 "cells": [
  {
   "cell_type": "code",
   "execution_count": 15,
   "metadata": {
    "ExecuteTime": {
     "end_time": "2020-10-12T16:59:22.547730Z",
     "start_time": "2020-10-12T16:59:22.273548Z"
    }
   },
   "outputs": [],
   "source": [
    "import pathlib\n",
    "import pickle\n",
    "import sys\n",
    "from os import path\n",
    "_up_one = path.abspath('../')\n",
    "if _up_one not in sys.path:\n",
    "    sys.path.insert(1, _up_one)\n",
    "from lg_barycentric import get_matrix_vectors, LocalGroupBarycentric, mw_masses, m31_masses\n",
    "\n",
    "from astropy.constants import G\n",
    "from astropy.cosmology import Planck18_arXiv_v2 as cosmo\n",
    "# from astropy.cosmology import WMAP9 as cosmo\n",
    "import astropy.coordinates as coord\n",
    "import astropy.table as at\n",
    "import astropy.units as u\n",
    "import matplotlib as mpl\n",
    "import matplotlib.pyplot as plt\n",
    "%matplotlib inline\n",
    "import numpy as np\n",
    "from scipy.optimize import root\n",
    "\n",
    "coord.galactocentric_frame_defaults.set('v4.0');"
   ]
  },
  {
   "cell_type": "code",
   "execution_count": 16,
   "metadata": {
    "ExecuteTime": {
     "end_time": "2020-10-12T16:59:23.058095Z",
     "start_time": "2020-10-12T16:59:23.036807Z"
    }
   },
   "outputs": [],
   "source": [
    "m31_cen = coord.SkyCoord(ra='00 42 44.330', dec='+41 16 07.50', distance=779*u.kpc,\n",
    "                         unit=(u.hourangle, u.degree))\n",
    "\n",
    "mw_cen = coord.Galactocentric(x=0*u.pc, y=0*u.pc, z=0*u.pc)"
   ]
  },
  {
   "cell_type": "code",
   "execution_count": 17,
   "metadata": {
    "ExecuteTime": {
     "end_time": "2020-10-12T16:59:23.211698Z",
     "start_time": "2020-10-12T16:59:23.206734Z"
    }
   },
   "outputs": [
    {
     "data": {
      "text/latex": [
       "$127.05282 \\; \\mathrm{\\frac{M_{\\odot}}{kpc^{3}}}$"
      ],
      "text/plain": [
       "<Quantity 127.0528154 solMass / kpc3>"
      ]
     },
     "execution_count": 17,
     "metadata": {},
     "output_type": "execute_result"
    }
   ],
   "source": [
    "rho_c = 3 * cosmo.H(0.)**2 / (8*np.pi*G)\n",
    "rho_c = rho_c.to(u.Msun/u.kpc**3)\n",
    "rho_c"
   ]
  },
  {
   "cell_type": "code",
   "execution_count": 18,
   "metadata": {
    "ExecuteTime": {
     "end_time": "2020-10-12T16:59:25.315905Z",
     "start_time": "2020-10-12T16:59:25.314136Z"
    }
   },
   "outputs": [],
   "source": [
    "# mw_M = 1.3e12 * u.Msun\n",
    "# m31_M = 2e12 * u.Msun"
   ]
  },
  {
   "cell_type": "code",
   "execution_count": 19,
   "metadata": {
    "ExecuteTime": {
     "end_time": "2020-10-12T16:59:25.678030Z",
     "start_time": "2020-10-12T16:59:25.675845Z"
    }
   },
   "outputs": [],
   "source": [
    "c = 10"
   ]
  },
  {
   "cell_type": "code",
   "execution_count": 33,
   "metadata": {
    "ExecuteTime": {
     "end_time": "2020-09-15T18:22:35.664691Z",
     "start_time": "2020-09-15T18:22:35.571322Z"
    }
   },
   "outputs": [
    {
     "name": "stdout",
     "output_type": "stream",
     "text": [
      "0.9 solMass 2.3 solMass\n",
      "203.7 kpc, 278.5 kpc\n",
      "20.37 kpc, 27.85 kpc\n",
      "1.3671886432341158 0.391304347826087\n",
      "220.20247626324135 kpc -562.7396615539577 kpc\n",
      "---\n",
      "\n",
      "1.2 solMass 2.0 solMass\n",
      "224.2 kpc, 265.9 kpc\n",
      "22.42 kpc, 26.59 kpc\n",
      "1.1856311014966876 0.6\n",
      "293.6033016833228 kpc -489.3388361338763 kpc\n",
      "---\n",
      "\n",
      "1.5 solMass 1.7 solMass\n",
      "241.5 kpc, 251.8 kpc\n",
      "24.15 kpc, 25.18 kpc\n",
      "1.0426036014588445 0.8823529411764706\n",
      "367.00412710340424 kpc -415.9380107137949 kpc\n",
      "---\n",
      "\n"
     ]
    }
   ],
   "source": [
    "models = dict()\n",
    "for mw_M, m31_M in zip(mw_masses, m31_masses):\n",
    "    mw_rvir = np.cbrt(mw_M / (200*rho_c) / (4/3*np.pi))\n",
    "    m31_rvir = np.cbrt(m31_M / (200*rho_c) / (4/3*np.pi))\n",
    "    \n",
    "    mw_rs = mw_rvir / c\n",
    "    m31_rs = m31_rvir / c\n",
    "    \n",
    "    print(mw_M / 1e12, m31_M / 1e12)\n",
    "    print(f\"{mw_rvir:.1f}, {m31_rvir:.1f}\")\n",
    "    print(f\"{mw_rs:.2f}, {m31_rs:.2f}\")\n",
    "    print(m31_rs / mw_rs, mw_M / m31_M)\n",
    "    \n",
    "    lg_frame = LocalGroupBarycentric(mw_mass=mw_M, m31_mass=m31_M)\n",
    "    print(m31_cen.transform_to(lg_frame).x.to(u.kpc),\n",
    "          mw_cen.transform_to(lg_frame).x.to(u.kpc))\n",
    "    \n",
    "    models[f'{mw_M.value / 1e12:.1f}'] = {\n",
    "        'mw_rvir': mw_rvir,\n",
    "        'mw_rs': mw_rs,\n",
    "        'mw_x': mw_cen.transform_to(lg_frame).x.to(u.kpc),\n",
    "        'm31_rvir': m31_rvir,\n",
    "        'm31_rs': m31_rs,\n",
    "        'm31_x': m31_cen.transform_to(lg_frame).x.to(u.kpc),\n",
    "        'lg_frame': lg_frame,\n",
    "    }\n",
    "    \n",
    "    print('---\\n')"
   ]
  },
  {
   "cell_type": "code",
   "execution_count": 35,
   "metadata": {
    "ExecuteTime": {
     "end_time": "2020-09-15T18:22:39.633377Z",
     "start_time": "2020-09-15T18:22:39.628533Z"
    }
   },
   "outputs": [],
   "source": [
    "cache_path = pathlib.Path('../cache')\n",
    "cache_path.mkdir(exist_ok=True)\n",
    "\n",
    "with open(cache_path / 'models.pkl', 'wb') as f:\n",
    "    pickle.dump(models, f)"
   ]
  },
  {
   "cell_type": "markdown",
   "metadata": {},
   "source": [
    "# MW:"
   ]
  },
  {
   "cell_type": "code",
   "execution_count": 38,
   "metadata": {},
   "outputs": [],
   "source": [
    "def delta_c(c):\n",
    "    fac = np.log(1+c) - c/(1+c)\n",
    "    return 200/3 * c**3 / fac\n",
    "\n",
    "def func(c, rho0):\n",
    "    return (delta_c(c) * rho_c - rho0).decompose().value"
   ]
  },
  {
   "cell_type": "markdown",
   "metadata": {},
   "source": [
    "From Wegg et al. 2019"
   ]
  },
  {
   "cell_type": "code",
   "execution_count": 45,
   "metadata": {},
   "outputs": [],
   "source": [
    "rs = 27*u.kpc\n",
    "rho_sun = 0.0092 * u.Msun / u.pc**3"
   ]
  },
  {
   "cell_type": "code",
   "execution_count": 46,
   "metadata": {},
   "outputs": [
    {
     "data": {
      "text/latex": [
       "$0.0046644 \\; \\mathrm{\\frac{M_{\\odot}}{pc^{3}}}$"
      ],
      "text/plain": [
       "<Quantity 0.0046644 solMass / pc3>"
      ]
     },
     "execution_count": 46,
     "metadata": {},
     "output_type": "execute_result"
    }
   ],
   "source": [
    "R = 8.1*u.kpc\n",
    "rho0 = rho_sun * (R/rs * (R/rs + 1)**2)\n",
    "rho0"
   ]
  },
  {
   "cell_type": "code",
   "execution_count": 47,
   "metadata": {},
   "outputs": [
    {
     "data": {
      "text/plain": [
       "(9.217104283896367, <Quantity 248.86181567 kpc>)"
      ]
     },
     "execution_count": 47,
     "metadata": {},
     "output_type": "execute_result"
    }
   ],
   "source": [
    "res = root(func, 15., args=(rho0,))\n",
    "mw_c = res.x[0]\n",
    "mw_rvir = mw_c * rs\n",
    "mw_c, mw_rvir"
   ]
  },
  {
   "cell_type": "code",
   "execution_count": 48,
   "metadata": {},
   "outputs": [
    {
     "data": {
      "text/latex": [
       "$1.6405055 \\; \\mathrm{1 \\times 10^{12}\\,M_{\\odot}}$"
      ],
      "text/plain": [
       "<Quantity 1.64050551 1e+12 solMass>"
      ]
     },
     "execution_count": 48,
     "metadata": {},
     "output_type": "execute_result"
    }
   ],
   "source": [
    "mw_Mvir = 4*np.pi*rho0 * rs**3 * (np.log(1+mw_c) - mw_c/(1+mw_c))\n",
    "mw_Mvir.to(1e12*u.Msun)"
   ]
  },
  {
   "cell_type": "code",
   "execution_count": null,
   "metadata": {},
   "outputs": [],
   "source": []
  }
 ],
 "metadata": {
  "kernelspec": {
   "display_name": "Python [conda env:root] *",
   "language": "python",
   "name": "conda-root-py"
  },
  "language_info": {
   "codemirror_mode": {
    "name": "ipython",
    "version": 3
   },
   "file_extension": ".py",
   "mimetype": "text/x-python",
   "name": "python",
   "nbconvert_exporter": "python",
   "pygments_lexer": "ipython3",
   "version": "3.8.3"
  },
  "toc": {
   "base_numbering": 1,
   "nav_menu": {},
   "number_sections": true,
   "sideBar": true,
   "skip_h1_title": false,
   "title_cell": "Table of Contents",
   "title_sidebar": "Contents",
   "toc_cell": false,
   "toc_position": {},
   "toc_section_display": true,
   "toc_window_display": false
  }
 },
 "nbformat": 4,
 "nbformat_minor": 4
}
